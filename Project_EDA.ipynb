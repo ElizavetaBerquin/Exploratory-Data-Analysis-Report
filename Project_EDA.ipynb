{
 "cells": [
  {
   "cell_type": "markdown",
   "metadata": {},
   "source": [
   ]
  },
  {
   "cell_type": "code",
   "execution_count": 1,
   "metadata": {},
   "outputs": [],
   "source": [
    "import pandas as pd\n",
    "import seaborn as sns"
   ]
  },
  {
   "cell_type": "code",
   "execution_count": 2,
   "metadata": {},
   "outputs": [
    {
     "name": "stdout",
     "output_type": "stream",
     "text": [
      "There are 1000 records\n",
      "There are 10 attributes:\n",
      "date         object\n",
      "activity     object\n",
      "duration    float64\n",
      "distance    float64\n",
      "type         object\n",
      "user          int64\n",
      "age           int64\n",
      "gender       object\n",
      "weight      float64\n",
      "location     object\n",
      "dtype: object\n"
     ]
    },
    {
     "data": {
      "text/html": [
       "<div>\n",
       "<style scoped>\n",
       "    .dataframe tbody tr th:only-of-type {\n",
       "        vertical-align: middle;\n",
       "    }\n",
       "\n",
       "    .dataframe tbody tr th {\n",
       "        vertical-align: top;\n",
       "    }\n",
       "\n",
       "    .dataframe thead th {\n",
       "        text-align: right;\n",
       "    }\n",
       "</style>\n",
       "<table border=\"1\" class=\"dataframe\">\n",
       "  <thead>\n",
       "    <tr style=\"text-align: right;\">\n",
       "      <th></th>\n",
       "      <th>date</th>\n",
       "      <th>activity</th>\n",
       "      <th>duration</th>\n",
       "      <th>distance</th>\n",
       "      <th>type</th>\n",
       "      <th>user</th>\n",
       "      <th>age</th>\n",
       "      <th>gender</th>\n",
       "      <th>weight</th>\n",
       "      <th>location</th>\n",
       "    </tr>\n",
       "  </thead>\n",
       "  <tbody>\n",
       "    <tr>\n",
       "      <th>0</th>\n",
       "      <td>01/01/2021</td>\n",
       "      <td>ride</td>\n",
       "      <td>1.71</td>\n",
       "      <td>44.31</td>\n",
       "      <td>workout</td>\n",
       "      <td>41269</td>\n",
       "      <td>34</td>\n",
       "      <td>f</td>\n",
       "      <td>63.2</td>\n",
       "      <td>NaN</td>\n",
       "    </tr>\n",
       "    <tr>\n",
       "      <th>1</th>\n",
       "      <td>01/01/2021</td>\n",
       "      <td>ride</td>\n",
       "      <td>1.29</td>\n",
       "      <td>36.14</td>\n",
       "      <td>workout</td>\n",
       "      <td>47027</td>\n",
       "      <td>20</td>\n",
       "      <td>m</td>\n",
       "      <td>73.9</td>\n",
       "      <td>West Chester, US</td>\n",
       "    </tr>\n",
       "    <tr>\n",
       "      <th>2</th>\n",
       "      <td>01/01/2021</td>\n",
       "      <td>run</td>\n",
       "      <td>46.84</td>\n",
       "      <td>8.55</td>\n",
       "      <td>workout</td>\n",
       "      <td>25075</td>\n",
       "      <td>23</td>\n",
       "      <td>m</td>\n",
       "      <td>75.7</td>\n",
       "      <td>Busia, KE</td>\n",
       "    </tr>\n",
       "    <tr>\n",
       "      <th>3</th>\n",
       "      <td>01/01/2021</td>\n",
       "      <td>run</td>\n",
       "      <td>47.99</td>\n",
       "      <td>6.92</td>\n",
       "      <td>workout</td>\n",
       "      <td>71720</td>\n",
       "      <td>42</td>\n",
       "      <td>m</td>\n",
       "      <td>78.7</td>\n",
       "      <td>Busia, KE</td>\n",
       "    </tr>\n",
       "    <tr>\n",
       "      <th>4</th>\n",
       "      <td>01/01/2021</td>\n",
       "      <td>run</td>\n",
       "      <td>45.09</td>\n",
       "      <td>5.13</td>\n",
       "      <td>workout</td>\n",
       "      <td>16994</td>\n",
       "      <td>19</td>\n",
       "      <td>f</td>\n",
       "      <td>64.6</td>\n",
       "      <td>West Des Moines, US</td>\n",
       "    </tr>\n",
       "    <tr>\n",
       "      <th>5</th>\n",
       "      <td>01/01/2021</td>\n",
       "      <td>run</td>\n",
       "      <td>49.83</td>\n",
       "      <td>8.82</td>\n",
       "      <td>workout</td>\n",
       "      <td>25075</td>\n",
       "      <td>23</td>\n",
       "      <td>m</td>\n",
       "      <td>75.7</td>\n",
       "      <td>Busia, KE</td>\n",
       "    </tr>\n",
       "    <tr>\n",
       "      <th>6</th>\n",
       "      <td>01/01/2021</td>\n",
       "      <td>ride</td>\n",
       "      <td>1.34</td>\n",
       "      <td>38.49</td>\n",
       "      <td>workout</td>\n",
       "      <td>35810</td>\n",
       "      <td>21</td>\n",
       "      <td>m</td>\n",
       "      <td>71.8</td>\n",
       "      <td>NaN</td>\n",
       "    </tr>\n",
       "    <tr>\n",
       "      <th>7</th>\n",
       "      <td>01/01/2021</td>\n",
       "      <td>run</td>\n",
       "      <td>58.45</td>\n",
       "      <td>11.18</td>\n",
       "      <td>workout</td>\n",
       "      <td>99227</td>\n",
       "      <td>40</td>\n",
       "      <td>f</td>\n",
       "      <td>52.8</td>\n",
       "      <td>NaN</td>\n",
       "    </tr>\n",
       "    <tr>\n",
       "      <th>8</th>\n",
       "      <td>01/01/2021</td>\n",
       "      <td>run</td>\n",
       "      <td>49.30</td>\n",
       "      <td>6.22</td>\n",
       "      <td>workout</td>\n",
       "      <td>65102</td>\n",
       "      <td>29</td>\n",
       "      <td>f</td>\n",
       "      <td>61.8</td>\n",
       "      <td>NaN</td>\n",
       "    </tr>\n",
       "    <tr>\n",
       "      <th>9</th>\n",
       "      <td>01/01/2021</td>\n",
       "      <td>run</td>\n",
       "      <td>58.65</td>\n",
       "      <td>10.69</td>\n",
       "      <td>workout</td>\n",
       "      <td>30984</td>\n",
       "      <td>33</td>\n",
       "      <td>m</td>\n",
       "      <td>76.9</td>\n",
       "      <td>Busia, KE</td>\n",
       "    </tr>\n",
       "  </tbody>\n",
       "</table>\n",
       "</div>"
      ],
      "text/plain": [
       "         date activity  duration  distance     type   user  age gender  \\\n",
       "0  01/01/2021     ride      1.71     44.31  workout  41269   34      f   \n",
       "1  01/01/2021     ride      1.29     36.14  workout  47027   20      m   \n",
       "2  01/01/2021      run     46.84      8.55  workout  25075   23      m   \n",
       "3  01/01/2021      run     47.99      6.92  workout  71720   42      m   \n",
       "4  01/01/2021      run     45.09      5.13  workout  16994   19      f   \n",
       "5  01/01/2021      run     49.83      8.82  workout  25075   23      m   \n",
       "6  01/01/2021     ride      1.34     38.49  workout  35810   21      m   \n",
       "7  01/01/2021      run     58.45     11.18  workout  99227   40      f   \n",
       "8  01/01/2021      run     49.30      6.22  workout  65102   29      f   \n",
       "9  01/01/2021      run     58.65     10.69  workout  30984   33      m   \n",
       "\n",
       "   weight             location  \n",
       "0    63.2                  NaN  \n",
       "1    73.9     West Chester, US  \n",
       "2    75.7            Busia, KE  \n",
       "3    78.7            Busia, KE  \n",
       "4    64.6  West Des Moines, US  \n",
       "5    75.7            Busia, KE  \n",
       "6    71.8                  NaN  \n",
       "7    52.8                  NaN  \n",
       "8    61.8                  NaN  \n",
       "9    76.9            Busia, KE  "
      ]
     },
     "execution_count": 2,
     "metadata": {},
     "output_type": "execute_result"
    }
   ],
   "source": [
    "data = pd.read_csv('/Users/elizaveta/Documents/Master of Digital Humanities - KU Leuven/Data Mining/Project/activities.csv', na_values=['?'])\n",
    "\n",
    "print('There are ' + str(data.shape[0]) + ' records')\n",
    "print('There are ' + str(data.columns.size) + ' attributes:')\n",
    "\n",
    "data_types = data.dtypes\n",
    "print(data_types)\n",
    "\n",
    "data.head(10)"
   ]
  },
  {
   "cell_type": "markdown",
   "metadata": {},
   "source": [
    "### 1. Demographics"
   ]
  },
  {
   "cell_type": "code",
   "execution_count": 3,
   "metadata": {},
   "outputs": [
    {
     "data": {
      "image/png": "[encoded data removed]",
      "text/plain": [
       "<Figure size 432x288 with 1 Axes>"
      ]
     },
     "metadata": {
      "needs_background": "light"
     },
     "output_type": "display_data"
    }
   ],
   "source": [
    "f = sns.countplot(x='gender', data=data)\n",
    "f.set_title('Male and Female users');"
   ]
  },
  {
   "cell_type": "code",
   "execution_count": 4,
   "metadata": {},
   "outputs": [
    {
     "data": {
      "image/png": "[encoded data removed]",
      "text/plain": [
       "<Figure size 432x288 with 1 Axes>"
      ]
     },
     "metadata": {
      "needs_background": "light"
     },
     "output_type": "display_data"
    }
   ],
   "source": [
    "sns.histplot(data=data, x='age', hue='gender', multiple=\"stack\");"
   ]
  },
  {
   "cell_type": "markdown",
   "metadata": {},
   "source": [
    "### 2. Distance: run or ride"
   ]
  },
  {
   "cell_type": "code",
   "execution_count": 5,
   "metadata": {},
   "outputs": [
    {
     "data": {
      "image/png": "[encoded data removed]",
      "text/plain": [
       "<Figure size 432x288 with 1 Axes>"
      ]
     },
     "metadata": {
      "needs_background": "light"
     },
     "output_type": "display_data"
    }
   ],
   "source": [
    "f = sns.countplot(x='activity', data=data)\n",
    "f.set_title('Ride VS Run');"
   ]
  },
  {
   "cell_type": "code",
   "execution_count": 6,
   "metadata": {},
   "outputs": [
    {
     "data": {
      "text/plain": [
       "Text(0, 0.5, 'distance (km)')"
      ]
     },
     "execution_count": 6,
     "metadata": {},
     "output_type": "execute_result"
    },
    {
     "data": {
      "image/png": "[encoded data removed]",
      "text/plain": [
       "<Figure size 432x288 with 1 Axes>"
      ]
     },
     "metadata": {
      "needs_background": "light"
     },
     "output_type": "display_data"
    }
   ],
   "source": [
    "ax = sns.violinplot(x='activity', y='distance', data=data);\n",
    "ax.set_ylabel(\"distance (km)\")"
   ]
  },
  {
   "cell_type": "markdown",
   "metadata": {},
   "source": [
    "### 3. Duration"
   ]
  },
  {
   "cell_type": "code",
   "execution_count": 7,
   "metadata": {},
   "outputs": [
    {
     "data": {
      "image/png": "[encoded data removed]",
      "text/plain": [
       "<Figure size 432x288 with 1 Axes>"
      ]
     },
     "metadata": {
      "needs_background": "light"
     },
     "output_type": "display_data"
    }
   ],
   "source": [
    "sns.histplot(data['duration']);"
   ]
  },
  {
   "cell_type": "code",
   "execution_count": 8,
   "metadata": {
    "scrolled": true
   },
   "outputs": [
    {
     "data": {
      "text/html": [
       "<div>\n",
       "<style scoped>\n",
       "    .dataframe tbody tr th:only-of-type {\n",
       "        vertical-align: middle;\n",
       "    }\n",
       "\n",
       "    .dataframe tbody tr th {\n",
       "        vertical-align: top;\n",
       "    }\n",
       "\n",
       "    .dataframe thead th {\n",
       "        text-align: right;\n",
       "    }\n",
       "</style>\n",
       "<table border=\"1\" class=\"dataframe\">\n",
       "  <thead>\n",
       "    <tr style=\"text-align: right;\">\n",
       "      <th></th>\n",
       "      <th>date</th>\n",
       "      <th>activity</th>\n",
       "      <th>duration</th>\n",
       "      <th>distance</th>\n",
       "      <th>type</th>\n",
       "      <th>user</th>\n",
       "      <th>age</th>\n",
       "      <th>gender</th>\n",
       "      <th>weight</th>\n",
       "      <th>location</th>\n",
       "    </tr>\n",
       "  </thead>\n",
       "  <tbody>\n",
       "    <tr>\n",
       "      <th>0</th>\n",
       "      <td>01/01/2021</td>\n",
       "      <td>ride</td>\n",
       "      <td>1.71</td>\n",
       "      <td>44.31</td>\n",
       "      <td>workout</td>\n",
       "      <td>41269</td>\n",
       "      <td>34</td>\n",
       "      <td>f</td>\n",
       "      <td>63.2</td>\n",
       "      <td>NaN</td>\n",
       "    </tr>\n",
       "    <tr>\n",
       "      <th>1</th>\n",
       "      <td>01/01/2021</td>\n",
       "      <td>ride</td>\n",
       "      <td>1.29</td>\n",
       "      <td>36.14</td>\n",
       "      <td>workout</td>\n",
       "      <td>47027</td>\n",
       "      <td>20</td>\n",
       "      <td>m</td>\n",
       "      <td>73.9</td>\n",
       "      <td>West Chester, US</td>\n",
       "    </tr>\n",
       "    <tr>\n",
       "      <th>6</th>\n",
       "      <td>01/01/2021</td>\n",
       "      <td>ride</td>\n",
       "      <td>1.34</td>\n",
       "      <td>38.49</td>\n",
       "      <td>workout</td>\n",
       "      <td>35810</td>\n",
       "      <td>21</td>\n",
       "      <td>m</td>\n",
       "      <td>71.8</td>\n",
       "      <td>NaN</td>\n",
       "    </tr>\n",
       "    <tr>\n",
       "      <th>13</th>\n",
       "      <td>01/01/2021</td>\n",
       "      <td>ride</td>\n",
       "      <td>1.02</td>\n",
       "      <td>27.78</td>\n",
       "      <td>workout</td>\n",
       "      <td>4307</td>\n",
       "      <td>18</td>\n",
       "      <td>m</td>\n",
       "      <td>62.4</td>\n",
       "      <td>Zeist, NL</td>\n",
       "    </tr>\n",
       "    <tr>\n",
       "      <th>15</th>\n",
       "      <td>02/01/2021</td>\n",
       "      <td>ride</td>\n",
       "      <td>1.44</td>\n",
       "      <td>37.64</td>\n",
       "      <td>workout</td>\n",
       "      <td>81958</td>\n",
       "      <td>23</td>\n",
       "      <td>f</td>\n",
       "      <td>63.7</td>\n",
       "      <td>Schiebroek, NL</td>\n",
       "    </tr>\n",
       "    <tr>\n",
       "      <th>...</th>\n",
       "      <td>...</td>\n",
       "      <td>...</td>\n",
       "      <td>...</td>\n",
       "      <td>...</td>\n",
       "      <td>...</td>\n",
       "      <td>...</td>\n",
       "      <td>...</td>\n",
       "      <td>...</td>\n",
       "      <td>...</td>\n",
       "      <td>...</td>\n",
       "    </tr>\n",
       "    <tr>\n",
       "      <th>987</th>\n",
       "      <td>29/02/2021</td>\n",
       "      <td>ride</td>\n",
       "      <td>1.25</td>\n",
       "      <td>32.57</td>\n",
       "      <td>workout</td>\n",
       "      <td>64099</td>\n",
       "      <td>16</td>\n",
       "      <td>f</td>\n",
       "      <td>64.6</td>\n",
       "      <td>Emmeloord, NL</td>\n",
       "    </tr>\n",
       "    <tr>\n",
       "      <th>988</th>\n",
       "      <td>02/29/2021</td>\n",
       "      <td>ride</td>\n",
       "      <td>1.68</td>\n",
       "      <td>48.13</td>\n",
       "      <td>workout</td>\n",
       "      <td>66144</td>\n",
       "      <td>21</td>\n",
       "      <td>m</td>\n",
       "      <td>68.0</td>\n",
       "      <td>Porterville, US</td>\n",
       "    </tr>\n",
       "    <tr>\n",
       "      <th>989</th>\n",
       "      <td>29/02/2021</td>\n",
       "      <td>ride</td>\n",
       "      <td>1.03</td>\n",
       "      <td>27.47</td>\n",
       "      <td>workout</td>\n",
       "      <td>26865</td>\n",
       "      <td>25</td>\n",
       "      <td>f</td>\n",
       "      <td>72.2</td>\n",
       "      <td>Barneveld, NL</td>\n",
       "    </tr>\n",
       "    <tr>\n",
       "      <th>991</th>\n",
       "      <td>29/02/2021</td>\n",
       "      <td>ride</td>\n",
       "      <td>1.26</td>\n",
       "      <td>35.40</td>\n",
       "      <td>race</td>\n",
       "      <td>43223</td>\n",
       "      <td>48</td>\n",
       "      <td>f</td>\n",
       "      <td>60.7</td>\n",
       "      <td>Beveren, BE</td>\n",
       "    </tr>\n",
       "    <tr>\n",
       "      <th>993</th>\n",
       "      <td>29/02/2021</td>\n",
       "      <td>ride</td>\n",
       "      <td>1.55</td>\n",
       "      <td>43.72</td>\n",
       "      <td>workout</td>\n",
       "      <td>4726</td>\n",
       "      <td>29</td>\n",
       "      <td>m</td>\n",
       "      <td>70.0</td>\n",
       "      <td>Hardenberg, NL</td>\n",
       "    </tr>\n",
       "  </tbody>\n",
       "</table>\n",
       "<p>483 rows × 10 columns</p>\n",
       "</div>"
      ],
      "text/plain": [
       "           date activity  duration  distance     type   user  age gender  \\\n",
       "0    01/01/2021     ride      1.71     44.31  workout  41269   34      f   \n",
       "1    01/01/2021     ride      1.29     36.14  workout  47027   20      m   \n",
       "6    01/01/2021     ride      1.34     38.49  workout  35810   21      m   \n",
       "13   01/01/2021     ride      1.02     27.78  workout   4307   18      m   \n",
       "15   02/01/2021     ride      1.44     37.64  workout  81958   23      f   \n",
       "..          ...      ...       ...       ...      ...    ...  ...    ...   \n",
       "987  29/02/2021     ride      1.25     32.57  workout  64099   16      f   \n",
       "988  02/29/2021     ride      1.68     48.13  workout  66144   21      m   \n",
       "989  29/02/2021     ride      1.03     27.47  workout  26865   25      f   \n",
       "991  29/02/2021     ride      1.26     35.40     race  43223   48      f   \n",
       "993  29/02/2021     ride      1.55     43.72  workout   4726   29      m   \n",
       "\n",
       "     weight          location  \n",
       "0      63.2               NaN  \n",
       "1      73.9  West Chester, US  \n",
       "6      71.8               NaN  \n",
       "13     62.4         Zeist, NL  \n",
       "15     63.7    Schiebroek, NL  \n",
       "..      ...               ...  \n",
       "987    64.6     Emmeloord, NL  \n",
       "988    68.0   Porterville, US  \n",
       "989    72.2     Barneveld, NL  \n",
       "991    60.7       Beveren, BE  \n",
       "993    70.0    Hardenberg, NL  \n",
       "\n",
       "[483 rows x 10 columns]"
      ]
     },
     "execution_count": 8,
     "metadata": {},
     "output_type": "execute_result"
    }
   ],
   "source": [
    "data.loc[data['activity'] == 'ride']"
   ]
  },
  {
   "cell_type": "code",
   "execution_count": 9,
   "metadata": {},
   "outputs": [
    {
     "data": {
      "text/plain": [
       "Text(0.5, 0, 'duration (min)')"
      ]
     },
     "execution_count": 9,
     "metadata": {},
     "output_type": "execute_result"
    },
    {
     "data": {
      "image/png": "[encoded data removed]",
      "text/plain": [
       "<Figure size 432x288 with 1 Axes>"
      ]
     },
     "metadata": {
      "needs_background": "light"
     },
     "output_type": "display_data"
    }
   ],
   "source": [
    "data.loc[(data['activity']=='ride'), 'duration'] = 60 * data.loc[(data['activity']=='ride'), 'duration']\n",
    "ax = sns.histplot(data['duration']);\n",
    "ax.set_xlabel(\"duration (min)\")"
   ]
  },
  {
   "cell_type": "code",
   "execution_count": 13,
   "metadata": {},
   "outputs": [
    {
     "data": {
      "image/png": "[encoded data removed]",
      "text/plain": [
       "<Figure size 432x432 with 3 Axes>"
      ]
     },
     "metadata": {
      "needs_background": "light"
     },
     "output_type": "display_data"
    }
   ],
   "source": [
    "sns.jointplot(x='distance', y='duration', data=data, hue='activity', kind='scatter');"
   ]
  },
  {
   "cell_type": "markdown",
   "metadata": {},
   "source": [
    "### 4. Date"
   ]
  },
  {
   "cell_type": "code",
   "execution_count": 14,
   "metadata": {},
   "outputs": [],
   "source": [
    "data['date'] = data['date'].replace({'01/13/2021':'01/12/2021'})"
   ]
  },
  {
   "cell_type": "code",
   "execution_count": 15,
   "metadata": {},
   "outputs": [
    {
     "data": {
      "text/html": [
       "<div>\n",
       "<style scoped>\n",
       "    .dataframe tbody tr th:only-of-type {\n",
       "        vertical-align: middle;\n",
       "    }\n",
       "\n",
       "    .dataframe tbody tr th {\n",
       "        vertical-align: top;\n",
       "    }\n",
       "\n",
       "    .dataframe thead th {\n",
       "        text-align: right;\n",
       "    }\n",
       "</style>\n",
       "<table border=\"1\" class=\"dataframe\">\n",
       "  <thead>\n",
       "    <tr style=\"text-align: right;\">\n",
       "      <th></th>\n",
       "      <th>date</th>\n",
       "      <th>activity</th>\n",
       "      <th>duration</th>\n",
       "      <th>distance</th>\n",
       "      <th>type</th>\n",
       "      <th>user</th>\n",
       "      <th>age</th>\n",
       "      <th>gender</th>\n",
       "      <th>weight</th>\n",
       "      <th>location</th>\n",
       "    </tr>\n",
       "  </thead>\n",
       "  <tbody>\n",
       "    <tr>\n",
       "      <th>312</th>\n",
       "      <td>01/15/2021</td>\n",
       "      <td>ride</td>\n",
       "      <td>99.00</td>\n",
       "      <td>47.76</td>\n",
       "      <td>workout</td>\n",
       "      <td>631</td>\n",
       "      <td>19</td>\n",
       "      <td>m</td>\n",
       "      <td>66.3</td>\n",
       "      <td>Cypress Hills, US</td>\n",
       "    </tr>\n",
       "    <tr>\n",
       "      <th>317</th>\n",
       "      <td>01/15/2021</td>\n",
       "      <td>ride</td>\n",
       "      <td>105.60</td>\n",
       "      <td>46.90</td>\n",
       "      <td>workout</td>\n",
       "      <td>12719</td>\n",
       "      <td>49</td>\n",
       "      <td>f</td>\n",
       "      <td>65.4</td>\n",
       "      <td>Copperas Cove, US</td>\n",
       "    </tr>\n",
       "    <tr>\n",
       "      <th>318</th>\n",
       "      <td>01/15/2021</td>\n",
       "      <td>run</td>\n",
       "      <td>46.18</td>\n",
       "      <td>8.37</td>\n",
       "      <td>workout</td>\n",
       "      <td>49255</td>\n",
       "      <td>20</td>\n",
       "      <td>f</td>\n",
       "      <td>57.0</td>\n",
       "      <td>Port Huron, US</td>\n",
       "    </tr>\n",
       "    <tr>\n",
       "      <th>320</th>\n",
       "      <td>01/15/2021</td>\n",
       "      <td>run</td>\n",
       "      <td>57.01</td>\n",
       "      <td>9.83</td>\n",
       "      <td>workout</td>\n",
       "      <td>40744</td>\n",
       "      <td>25</td>\n",
       "      <td>m</td>\n",
       "      <td>69.2</td>\n",
       "      <td>Keene, US</td>\n",
       "    </tr>\n",
       "  </tbody>\n",
       "</table>\n",
       "</div>"
      ],
      "text/plain": [
       "           date activity  duration  distance     type   user  age gender  \\\n",
       "312  01/15/2021     ride     99.00     47.76  workout    631   19      m   \n",
       "317  01/15/2021     ride    105.60     46.90  workout  12719   49      f   \n",
       "318  01/15/2021      run     46.18      8.37  workout  49255   20      f   \n",
       "320  01/15/2021      run     57.01      9.83  workout  40744   25      m   \n",
       "\n",
       "     weight           location  \n",
       "312    66.3  Cypress Hills, US  \n",
       "317    65.4  Copperas Cove, US  \n",
       "318    57.0     Port Huron, US  \n",
       "320    69.2          Keene, US  "
      ]
     },
     "execution_count": 15,
     "metadata": {},
     "output_type": "execute_result"
    }
   ],
   "source": [
    "data.loc[data['date'] == '01/15/2021']"
   ]
  },
  {
   "cell_type": "markdown",
   "metadata": {},
   "source": [
    "### 5. Location"
   ]
  },
  {
   "cell_type": "code",
   "execution_count": 16,
   "metadata": {},
   "outputs": [
    {
     "data": {
      "text/html": [
       "<div>\n",
       "<style scoped>\n",
       "    .dataframe tbody tr th:only-of-type {\n",
       "        vertical-align: middle;\n",
       "    }\n",
       "\n",
       "    .dataframe tbody tr th {\n",
       "        vertical-align: top;\n",
       "    }\n",
       "\n",
       "    .dataframe thead th {\n",
       "        text-align: right;\n",
       "    }\n",
       "</style>\n",
       "<table border=\"1\" class=\"dataframe\">\n",
       "  <thead>\n",
       "    <tr style=\"text-align: right;\">\n",
       "      <th></th>\n",
       "      <th>date</th>\n",
       "      <th>activity</th>\n",
       "      <th>type</th>\n",
       "      <th>gender</th>\n",
       "      <th>location</th>\n",
       "    </tr>\n",
       "  </thead>\n",
       "  <tbody>\n",
       "    <tr>\n",
       "      <th>count</th>\n",
       "      <td>270</td>\n",
       "      <td>270</td>\n",
       "      <td>270</td>\n",
       "      <td>270</td>\n",
       "      <td>0</td>\n",
       "    </tr>\n",
       "    <tr>\n",
       "      <th>unique</th>\n",
       "      <td>52</td>\n",
       "      <td>2</td>\n",
       "      <td>2</td>\n",
       "      <td>2</td>\n",
       "      <td>0</td>\n",
       "    </tr>\n",
       "    <tr>\n",
       "      <th>top</th>\n",
       "      <td>08/01/2021</td>\n",
       "      <td>ride</td>\n",
       "      <td>workout</td>\n",
       "      <td>f</td>\n",
       "      <td>NaN</td>\n",
       "    </tr>\n",
       "    <tr>\n",
       "      <th>freq</th>\n",
       "      <td>13</td>\n",
       "      <td>140</td>\n",
       "      <td>252</td>\n",
       "      <td>169</td>\n",
       "      <td>NaN</td>\n",
       "    </tr>\n",
       "  </tbody>\n",
       "</table>\n",
       "</div>"
      ],
      "text/plain": [
       "              date activity     type gender location\n",
       "count          270      270      270    270        0\n",
       "unique          52        2        2      2        0\n",
       "top     08/01/2021     ride  workout      f      NaN\n",
       "freq            13      140      252    169      NaN"
      ]
     },
     "execution_count": 16,
     "metadata": {},
     "output_type": "execute_result"
    }
   ],
   "source": [
    "data.loc[data['location'].isnull()].describe(include=['object'])"
   ]
  },
  {
   "cell_type": "code",
   "execution_count": 17,
   "metadata": {},
   "outputs": [
    {
     "data": {
      "text/html": [
       "<div>\n",
       "<style scoped>\n",
       "    .dataframe tbody tr th:only-of-type {\n",
       "        vertical-align: middle;\n",
       "    }\n",
       "\n",
       "    .dataframe tbody tr th {\n",
       "        vertical-align: top;\n",
       "    }\n",
       "\n",
       "    .dataframe thead th {\n",
       "        text-align: right;\n",
       "    }\n",
       "</style>\n",
       "<table border=\"1\" class=\"dataframe\">\n",
       "  <thead>\n",
       "    <tr style=\"text-align: right;\">\n",
       "      <th></th>\n",
       "      <th>date</th>\n",
       "      <th>activity</th>\n",
       "      <th>duration</th>\n",
       "      <th>distance</th>\n",
       "      <th>type</th>\n",
       "      <th>user</th>\n",
       "      <th>age</th>\n",
       "      <th>gender</th>\n",
       "      <th>weight</th>\n",
       "      <th>location</th>\n",
       "    </tr>\n",
       "  </thead>\n",
       "  <tbody>\n",
       "    <tr>\n",
       "      <th>0</th>\n",
       "      <td>01/01/2021</td>\n",
       "      <td>ride</td>\n",
       "      <td>102.60</td>\n",
       "      <td>44.31</td>\n",
       "      <td>workout</td>\n",
       "      <td>41269</td>\n",
       "      <td>34</td>\n",
       "      <td>f</td>\n",
       "      <td>63.2</td>\n",
       "      <td>NaN</td>\n",
       "    </tr>\n",
       "    <tr>\n",
       "      <th>6</th>\n",
       "      <td>01/01/2021</td>\n",
       "      <td>ride</td>\n",
       "      <td>80.40</td>\n",
       "      <td>38.49</td>\n",
       "      <td>workout</td>\n",
       "      <td>35810</td>\n",
       "      <td>21</td>\n",
       "      <td>m</td>\n",
       "      <td>71.8</td>\n",
       "      <td>NaN</td>\n",
       "    </tr>\n",
       "    <tr>\n",
       "      <th>7</th>\n",
       "      <td>01/01/2021</td>\n",
       "      <td>run</td>\n",
       "      <td>58.45</td>\n",
       "      <td>11.18</td>\n",
       "      <td>workout</td>\n",
       "      <td>99227</td>\n",
       "      <td>40</td>\n",
       "      <td>f</td>\n",
       "      <td>52.8</td>\n",
       "      <td>NaN</td>\n",
       "    </tr>\n",
       "    <tr>\n",
       "      <th>8</th>\n",
       "      <td>01/01/2021</td>\n",
       "      <td>run</td>\n",
       "      <td>49.30</td>\n",
       "      <td>6.22</td>\n",
       "      <td>workout</td>\n",
       "      <td>65102</td>\n",
       "      <td>29</td>\n",
       "      <td>f</td>\n",
       "      <td>61.8</td>\n",
       "      <td>NaN</td>\n",
       "    </tr>\n",
       "    <tr>\n",
       "      <th>12</th>\n",
       "      <td>01/01/2021</td>\n",
       "      <td>run</td>\n",
       "      <td>56.30</td>\n",
       "      <td>10.53</td>\n",
       "      <td>race</td>\n",
       "      <td>26012</td>\n",
       "      <td>20</td>\n",
       "      <td>f</td>\n",
       "      <td>57.0</td>\n",
       "      <td>NaN</td>\n",
       "    </tr>\n",
       "    <tr>\n",
       "      <th>...</th>\n",
       "      <td>...</td>\n",
       "      <td>...</td>\n",
       "      <td>...</td>\n",
       "      <td>...</td>\n",
       "      <td>...</td>\n",
       "      <td>...</td>\n",
       "      <td>...</td>\n",
       "      <td>...</td>\n",
       "      <td>...</td>\n",
       "      <td>...</td>\n",
       "    </tr>\n",
       "    <tr>\n",
       "      <th>972</th>\n",
       "      <td>25/02/2021</td>\n",
       "      <td>ride</td>\n",
       "      <td>100.20</td>\n",
       "      <td>43.72</td>\n",
       "      <td>workout</td>\n",
       "      <td>69313</td>\n",
       "      <td>23</td>\n",
       "      <td>f</td>\n",
       "      <td>63.5</td>\n",
       "      <td>NaN</td>\n",
       "    </tr>\n",
       "    <tr>\n",
       "      <th>973</th>\n",
       "      <td>26/02/2021</td>\n",
       "      <td>ride</td>\n",
       "      <td>94.20</td>\n",
       "      <td>45.01</td>\n",
       "      <td>workout</td>\n",
       "      <td>59866</td>\n",
       "      <td>23</td>\n",
       "      <td>m</td>\n",
       "      <td>62.9</td>\n",
       "      <td>NaN</td>\n",
       "    </tr>\n",
       "    <tr>\n",
       "      <th>979</th>\n",
       "      <td>27/02/2021</td>\n",
       "      <td>ride</td>\n",
       "      <td>105.60</td>\n",
       "      <td>46.54</td>\n",
       "      <td>workout</td>\n",
       "      <td>71996</td>\n",
       "      <td>25</td>\n",
       "      <td>f</td>\n",
       "      <td>63.4</td>\n",
       "      <td>NaN</td>\n",
       "    </tr>\n",
       "    <tr>\n",
       "      <th>996</th>\n",
       "      <td>29/02/2021</td>\n",
       "      <td>run</td>\n",
       "      <td>49.70</td>\n",
       "      <td>5.75</td>\n",
       "      <td>workout</td>\n",
       "      <td>96551</td>\n",
       "      <td>49</td>\n",
       "      <td>f</td>\n",
       "      <td>64.0</td>\n",
       "      <td>NaN</td>\n",
       "    </tr>\n",
       "    <tr>\n",
       "      <th>997</th>\n",
       "      <td>29/02/2021</td>\n",
       "      <td>run</td>\n",
       "      <td>36.20</td>\n",
       "      <td>3.72</td>\n",
       "      <td>race</td>\n",
       "      <td>22551</td>\n",
       "      <td>23</td>\n",
       "      <td>f</td>\n",
       "      <td>66.7</td>\n",
       "      <td>NaN</td>\n",
       "    </tr>\n",
       "  </tbody>\n",
       "</table>\n",
       "<p>270 rows × 10 columns</p>\n",
       "</div>"
      ],
      "text/plain": [
       "           date activity  duration  distance     type   user  age gender  \\\n",
       "0    01/01/2021     ride    102.60     44.31  workout  41269   34      f   \n",
       "6    01/01/2021     ride     80.40     38.49  workout  35810   21      m   \n",
       "7    01/01/2021      run     58.45     11.18  workout  99227   40      f   \n",
       "8    01/01/2021      run     49.30      6.22  workout  65102   29      f   \n",
       "12   01/01/2021      run     56.30     10.53     race  26012   20      f   \n",
       "..          ...      ...       ...       ...      ...    ...  ...    ...   \n",
       "972  25/02/2021     ride    100.20     43.72  workout  69313   23      f   \n",
       "973  26/02/2021     ride     94.20     45.01  workout  59866   23      m   \n",
       "979  27/02/2021     ride    105.60     46.54  workout  71996   25      f   \n",
       "996  29/02/2021      run     49.70      5.75  workout  96551   49      f   \n",
       "997  29/02/2021      run     36.20      3.72     race  22551   23      f   \n",
       "\n",
       "     weight location  \n",
       "0      63.2      NaN  \n",
       "6      71.8      NaN  \n",
       "7      52.8      NaN  \n",
       "8      61.8      NaN  \n",
       "12     57.0      NaN  \n",
       "..      ...      ...  \n",
       "972    63.5      NaN  \n",
       "973    62.9      NaN  \n",
       "979    63.4      NaN  \n",
       "996    64.0      NaN  \n",
       "997    66.7      NaN  \n",
       "\n",
       "[270 rows x 10 columns]"
      ]
     },
     "execution_count": 17,
     "metadata": {},
     "output_type": "execute_result"
    }
   ],
   "source": [
    "data[data.location.isnull()]"
   ]
  },
  {
   "cell_type": "code",
   "execution_count": 18,
   "metadata": {},
   "outputs": [
    {
     "data": {
      "text/plain": [
       "NaN                     270\n",
       "Lodwar, KE              103\n",
       "Busia, KE                73\n",
       "Nyahururu, KE            61\n",
       "Temse, BE                39\n",
       "Barneveld, NL            36\n",
       "Hoogezand, NL            32\n",
       "Hardenberg, NL           29\n",
       "Beveren, BE              24\n",
       "Oldenzaal, NL            22\n",
       "Tongelre, NL             21\n",
       "Culemborg, NL            20\n",
       "Gembloux, BE             19\n",
       "Houthalen, BE            17\n",
       "Front Royal, US          16\n",
       "Schiebroek, NL           16\n",
       "Zeist, NL                16\n",
       "West Des Moines, US      15\n",
       "Palm Desert, US          13\n",
       "Saratoga Springs, US     13\n",
       "West Chester, US         13\n",
       "Wevelgem, BE             12\n",
       "Cypress Hills, US        12\n",
       "Lille, BE                11\n",
       "Yonkers, US              10\n",
       "Losser, NL               10\n",
       "Emmeloord, NL             9\n",
       "Keene, US                 9\n",
       "Mouscron, BE              9\n",
       "Port Huron, US            9\n",
       "Claremont, US             8\n",
       "Jackson, US               7\n",
       "Porterville, US           7\n",
       "Copperas Cove, US         7\n",
       "Rixensart, BE             7\n",
       "Iron River, US            5\n",
       "Name: location, dtype: int64"
      ]
     },
     "execution_count": 18,
     "metadata": {},
     "output_type": "execute_result"
    }
   ],
   "source": [
    "data['location'].value_counts(dropna=False)"
   ]
  },
  {
   "cell_type": "code",
   "execution_count": 19,
   "metadata": {},
   "outputs": [
    {
     "data": {
      "image/png": "[encoded data removed]",
      "text/plain": [
       "<Figure size 806.4x504 with 2 Axes>"
      ]
     },
     "metadata": {
      "needs_background": "light"
     },
     "output_type": "display_data"
    }
   ],
   "source": [
    "sns.catplot(y='location', col='activity', data=data, kind='count', height=7, aspect=.8);"
   ]
  },
  {
   "cell_type": "markdown",
   "metadata": {},
   "source": [
    "### Other plots"
   ]
  },
  {
   "cell_type": "code",
   "execution_count": 20,
   "metadata": {},
   "outputs": [
    {
     "data": {
      "image/png": "[encoded data removed]",
      "text/plain": [
       "<Figure size 432x288 with 1 Axes>"
      ]
     },
     "metadata": {
      "needs_background": "light"
     },
     "output_type": "display_data"
    }
   ],
   "source": [
    " sns.violinplot(x='gender', y='weight', data=data);"
   ]
  },
  {
   "cell_type": "code",
   "execution_count": 21,
   "metadata": {},
   "outputs": [
    {
     "data": {
      "image/png": "[encoded data removed]",
      "text/plain": [
       "<Figure size 432x288 with 1 Axes>"
      ]
     },
     "metadata": {
      "needs_background": "light"
     },
     "output_type": "display_data"
    }
   ],
   "source": [
    "f = sns.countplot(x='type', data=data)\n",
    "f.set_title('Workout VS Race');"
   ]
  }
 ],
 "metadata": {
  "kernelspec": {
   "display_name": "Python 3",
   "language": "python",
   "name": "python3"
  },
  "language_info": {
   "codemirror_mode": {
    "name": "ipython",
    "version": 3
   },
   "file_extension": ".py",
   "mimetype": "text/x-python",
   "name": "python",
   "nbconvert_exporter": "python",
   "pygments_lexer": "ipython3",
   "version": "3.8.3"
  }
 },
 "nbformat": 4,
 "nbformat_minor": 4
}
